{
 "cells": [
  {
   "cell_type": "markdown",
   "metadata": {
    "collapsed": true
   },
   "source": [
    "# Heat equation - Cooling of intrusions\n",
    "## Part 3: Finite difference - 2D/3D\n",
    "Igneous intrusions maybe dykes or sills, which can be approximated in 1D, but they can also be plutons, which maybe approximated as somehow spherical. Therfeore they should be modelled in 3D. Here we take one step towards this 3D modelling, and assume that plutons are circles in a 2D space corresponding to either a vertcial cross-section or a map-view.   "
   ]
  },
  {
   "cell_type": "markdown",
   "metadata": {},
   "source": [
    "## Libraries"
   ]
  },
  {
   "cell_type": "code",
   "execution_count": null,
   "metadata": {},
   "outputs": [],
   "source": [
    "import numpy as np\n",
    "import matplotlib.pyplot as plt\n",
    "%matplotlib notebook\n",
    "\n",
    "from IPython.display import set_matplotlib_formats\n",
    "set_matplotlib_formats('png', 'pdf')\n",
    "\n",
    "from ipywidgets import FloatProgress\n",
    "from IPython.display import display"
   ]
  },
  {
   "cell_type": "markdown",
   "metadata": {},
   "source": [
    "## Physical parameters"
   ]
  },
  {
   "cell_type": "code",
   "execution_count": null,
   "metadata": {},
   "outputs": [],
   "source": [
    "Lx = 10000  # length of domain along x (m)\n",
    "Ly = 10000  # length of domain along y\n",
    "T_0 = 200  # host rock temperature\n",
    "T_1 = 900  # initial temperature of pluton 1\n",
    "T_2 = 1200  # initial temperature of pluton 2\n",
    "k = 1e-6  # thermal diffusivity of rocks\n",
    "\n",
    "R_1 = 1500  # radius of pluton 1\n",
    "R_2 = 1200  # radius of pluton 2\n",
    "\n",
    "X_1 = 4000  # x coordinate of pluton 1\n",
    "Y_1 = 4000  # y coordinate of pluton 1 \n",
    "\n",
    "X_2 = 6000  # x coordinate of pluton 2\n",
    "Y_2 = 6000  # x coordinate of pluton 2\n",
    "\n",
    "t_2 = 1000 * 365.25 * 24 * 3600  # time of intrusion 2 (after intrusion 1 at t=0)\n",
    "t_end = 2000 * 365.25 * 24 * 3600  # time end of simulation"
   ]
  },
  {
   "cell_type": "markdown",
   "metadata": {},
   "source": [
    "## Numerical parameters"
   ]
  },
  {
   "cell_type": "code",
   "execution_count": null,
   "metadata": {},
   "outputs": [],
   "source": [
    "nx = 250  # number of points along x\n",
    "ny = 250  # number of points along y\n",
    "\n",
    "x = np.linspace(0,Lx,nx+1)\n",
    "y = np.linspace(0,Ly,ny+1)\n",
    "\n",
    "dx = x[1]-x[0]  # resolution along x\n",
    "dy = y[1]-y[0]  # resolution along y\n",
    "\n",
    "mindx = min(dx,dy)  # minimum resolution\n",
    "dt = int(0.1*(mindx*mindx/(2*k)))  # time step\n",
    "\n",
    "nt_2 = int(t_2 / dt) # number of steps to get to t_2\n",
    "nt_end = int((t_end-t_2) / dt)  # number of steps after intrusion 2 to get to the end of simulation"
   ]
  },
  {
   "cell_type": "markdown",
   "metadata": {},
   "source": [
    "## Initial conditions\n",
    "Set the temperature everywhere to T_0, then set the temperature to T_1 if the distance to the center of the pluton is less than the radius of the pluton 1"
   ]
  },
  {
   "cell_type": "code",
   "execution_count": null,
   "metadata": {},
   "outputs": [],
   "source": [
    "X,Y = np.meshgrid(x,y)  # make grids of x and y from vectors\n",
    "T = np.zeros(X.shape)+T_0  # make T=T_0 everywhere\n",
    "\n",
    "DD = np.hypot((X-X_1),(Y-Y_1)) # distance from center of pluton 1\n",
    "T[DD < R_1] = T_1  # set T to T_1 inside the pluton 1"
   ]
  },
  {
   "cell_type": "markdown",
   "metadata": {},
   "source": [
    "### Main loops for the first part of evolution\n",
    "From intrusion of pluton 1 to intrusion of pluton 2. "
   ]
  },
  {
   "cell_type": "code",
   "execution_count": null,
   "metadata": {},
   "outputs": [],
   "source": [
    "t = np.zeros(nt_2)  # initialise a time vector\n",
    "time = 0 \n",
    "t[0] = time\n",
    "\n",
    "T0 = T  # save initial temperature distribution \n",
    "f = FloatProgress(min=0,max=100)  # progress bar\n",
    "display(f)\n",
    "\n",
    "for n in range(1,nt_2):\n",
    "    T_new = np.zeros(X.shape)\n",
    "    f.value = int(n/nt_2*100)\n",
    "    for i in range(1,nx-1):\n",
    "        for j in range(1,ny-1):\n",
    "            T_new[i,j] = T[i,j] + (k*dt/(dx*dx))*(T[i+1,j] - 2*T[i,j] + T[i-1,j]) + (k*dt/(dy*dy))*(T[i,j+1] - 2*T[i,j] + T[i,j-1])\n",
    "    \n",
    "    T_new[0,:] = T0[0,:]              # apply boundary conditions along four edges\n",
    "    T_new[nx-1] = T0[nx-1]\n",
    "    T_new[:,0] = T0[:,0]\n",
    "    T_new[:,ny-1] = T0[:,ny-1]\n",
    "    T = T_new                      # update temperature field\n",
    "    time = time + dt               # update time\n",
    "    t[n] = time        "
   ]
  },
  {
   "cell_type": "markdown",
   "metadata": {},
   "source": [
    "### Temperature field when second pluton intrudes"
   ]
  },
  {
   "cell_type": "code",
   "execution_count": null,
   "metadata": {},
   "outputs": [],
   "source": [
    "fig = plt.figure(1)\n",
    "ax = plt.subplot(1,1,1)\n",
    "im=ax.pcolor(x,y,T,cmap='coolwarm')\n",
    "ax.set_aspect('equal')\n",
    "cax = fig.add_axes([0.235, 0.13, 0.02, 0.3])\n",
    "fig.colorbar(im, cax=cax)\n",
    "plt.show()"
   ]
  },
  {
   "cell_type": "markdown",
   "metadata": {},
   "source": [
    "### Next evolution\n",
    "From intrusion of second pluton to the end of the simulation"
   ]
  },
  {
   "cell_type": "code",
   "execution_count": null,
   "metadata": {},
   "outputs": [],
   "source": [
    "DD = np.hypot((X-X_2),(Y-Y_2))\n",
    "T[DD < R_1] = T_2\n",
    "\n",
    "t = np.zeros(nt_end)  # initialise a time vector\n",
    "t[0] = time\n",
    "\n",
    "T0 = T  # save initial temperature distribution\n",
    "\n",
    "f = FloatProgress(min=0,max=100)  # progress bar\n",
    "display(f)\n",
    "\n",
    "for n in range(1, nt_end):\n",
    "    f.value = int(n/nt_end*100)\n",
    "    T_new = np.zeros(X.shape)\n",
    "    for i in range(1, nx - 1):\n",
    "        for j in range(1, ny - 1):\n",
    "            T_new[i, j] = T[i, j] + (k * dt / (dx * dx)) * (T[i + 1, j] - 2 * T[i, j] + T[i - 1, j]) + (\n",
    "                    k * dt / (dy * dy)) * (T[i, j + 1] - 2 * T[i, j] + T[i, j - 1])\n",
    "\n",
    "    T_new[0, :] = T0[0, :]  # apply boundary conditions along four edges\n",
    "    T_new[nx - 1] = T0[nx - 1]\n",
    "    T_new[:, 0] = T0[:, 0]\n",
    "    T_new[:, ny - 1] = T0[:, ny - 1]\n",
    "    T = T_new  # update temperature field\n",
    "    time = time + dt  # update time\n",
    "    t[n] = time"
   ]
  },
  {
   "cell_type": "markdown",
   "metadata": {},
   "source": [
    "### Temperature field at the end of simulation"
   ]
  },
  {
   "cell_type": "code",
   "execution_count": null,
   "metadata": {},
   "outputs": [],
   "source": [
    "fig = plt.figure(2)\n",
    "ax = plt.subplot(1,1,1)\n",
    "im=ax.pcolor(x,y,T,cmap='coolwarm')\n",
    "ax.set_aspect('equal')\n",
    "cax = fig.add_axes([0.235, 0.13, 0.02, 0.3])\n",
    "fig.colorbar(im, cax=cax)\n",
    "plt.show()"
   ]
  },
  {
   "cell_type": "markdown",
   "metadata": {},
   "source": []
  },
  {
   "cell_type": "markdown",
   "metadata": {},
   "source": [
    "## Tasks\n",
    "Calculate temperature field at \n",
    "Change position of the two plutons"
   ]
  }
 ],
 "metadata": {
  "kernelspec": {
   "display_name": "Python 2",
   "language": "python",
   "name": "python2"
  },
  "language_info": {
   "codemirror_mode": {
    "name": "ipython",
    "version": 2
   },
   "file_extension": ".py",
   "mimetype": "text/x-python",
   "name": "python",
   "nbconvert_exporter": "python",
   "pygments_lexer": "ipython2",
   "version": "2.7.6"
  }
 },
 "nbformat": 4,
 "nbformat_minor": 0
}
