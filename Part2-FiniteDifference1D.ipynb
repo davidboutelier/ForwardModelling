{
 "cells": [
  {
   "cell_type": "markdown",
   "metadata": {
    "collapsed": true
   },
   "source": [
    "# Heat equation - Cooling of intrusions\n",
    "## Part 2: Finite difference - 1D\n",
    "The analytical solution for the cooling of a dyke only works if we make the asumptions that the cooling is one dimensional and there is only one heat source.\n",
    "Here we employ a numerical technique for a similar setup to demonstrate that numerical techniques allow investigating more complex situations.\n",
    "We will calculate the temperature profile across two parallel dykes. The situation is still one-dimensional but the temperature evolution is more complex.\n",
    "The heat equation and the employed finite difference scheme (Forward Euler) are detailed in the hand-out."
   ]
  },
  {
   "cell_type": "code",
   "execution_count": 2,
   "metadata": {
    "collapsed": true
   },
   "outputs": [],
   "source": [
    "import numpy as np\n",
    "import matplotlib.pyplot as plt\n",
    "%matplotlib notebook\n",
    "\n",
    "from IPython.display import set_matplotlib_formats\n",
    "set_matplotlib_formats('png', 'pdf')\n",
    "\n",
    "from ipywidgets import FloatProgress\n",
    "from IPython.display import display"
   ]
  },
  {
   "cell_type": "markdown",
   "metadata": {},
   "source": [
    "### Physical parameters\n",
    "Here we indicate the physical parameters of the simulation"
   ]
  },
  {
   "cell_type": "code",
   "execution_count": 3,
   "metadata": {
    "collapsed": true
   },
   "outputs": [],
   "source": [
    "X1 = -50       # position dyke 1\n",
    "X2 = 50        # position dyke 2\n",
    "\n",
    "T1 = 1200      # initial temperature dyke 1\n",
    "T2 = 1200      # initial temperature dyke 2\n",
    "T0 = 200       # temperature host rock\n",
    "\n",
    "W1 = 20        # width dyke 1\n",
    "W2 = 20        # width dyke 2\n",
    "\n",
    "t1 = 0\n",
    "t2 = 2*365*24*3600      # time intrusion dyke 2\n",
    "tend = 100*365*24*3600  # time end of simulation\n",
    "\n",
    "k = 1e-6      # thermal diffusivity of rocks"
   ]
  },
  {
   "cell_type": "markdown",
   "metadata": {},
   "source": [
    "### Numerical parameters\n",
    "Here we define how the physical parameters are going to be discretized."
   ]
  },
  {
   "cell_type": "code",
   "execution_count": 8,
   "metadata": {},
   "outputs": [],
   "source": [
    "L = 2000                               # length of profile\n",
    "dx = 1                                 # resolution in profile\n",
    "nx = L + 1                             # number of points in the profile\n",
    "x = np.linspace(-L/2,L/2,nx)           # vector coordinates of points in the profile\n",
    "dt = 0.4*(dx*dx/(2*k))                 # time step\n",
    "Tc = np.zeros((int(tend/dt),1))        # vector temperature in central point\n",
    "tc = np.linspace(0,tend,int(tend/dt))  # vector time"
   ]
  },
  {
   "cell_type": "markdown",
   "metadata": {},
   "source": [
    "### Initial conditions\n",
    "Defines the initial temperature profile"
   ]
  },
  {
   "cell_type": "code",
   "execution_count": 9,
   "metadata": {
    "collapsed": true
   },
   "outputs": [],
   "source": [
    "T = T0 * np.ones(nx)                   # defines host temperature everywhere\n",
    "dX1 = x - X1                           # distance from center of dyke 1\n",
    "for index,item in enumerate(dX1):\n",
    "    if abs(item) < W1/2:\n",
    "        T[index] = T1                  # if within dyke 1 then temperature is T1"
   ]
  },
  {
   "cell_type": "markdown",
   "metadata": {},
   "source": [
    "### First time loop\n",
    "We calculate the evolution of the temperature along the profile from t1 to t2, using the Forward Euler Scheme"
   ]
  },
  {
   "cell_type": "code",
   "execution_count": 11,
   "metadata": {},
   "outputs": [
    {
     "name": "stderr",
     "output_type": "stream",
     "text": [
      "Widget Javascript not detected.  It may not be installed or enabled properly.\n"
     ]
    },
    {
     "data": {},
     "metadata": {},
     "output_type": "display_data"
    }
   ],
   "source": [
    "nt1 = int((t2-t1)/dt)                  # number of time steps to produce to get to t2\n",
    "ctime = 0\n",
    "\n",
    "f = FloatProgress(min=0,max=100)       # create a progress bar to see how the simulation goes\n",
    "display(f)\n",
    "\n",
    "for n in range(0,nt1):                 # main loop for time\n",
    "    T_new = np.zeros(nx)               # new temperature profile\n",
    "    f.value = int(n/nt1*100)\n",
    "    \n",
    "    for i in range(1,nx-1):            # main loop for space (along the profile)\n",
    "        T_new[i] = T[i] + (k*dt/(dx*dx))*(T[i-1]-2*T[i]+T[i+1])\n",
    "    \n",
    "    T_new[0] = T[0]                    # apply the boundary condition (T remains constant at edges of profile)       \n",
    "    T_new[nx-1] = T[nx-1]\n",
    "    Tc[n] = T[int(nx/2)]               # get temperature at center point\n",
    "    ctime = ctime+dt                   # update time"
   ]
  },
  {
   "cell_type": "markdown",
   "metadata": {},
   "source": [
    "### Change initial condition at time t2\n",
    "We take the output of the first part of the simulation and modify it to ccount for the second intrusion"
   ]
  },
  {
   "cell_type": "code",
   "execution_count": 12,
   "metadata": {},
   "outputs": [
    {
     "name": "stderr",
     "output_type": "stream",
     "text": [
      "Widget Javascript not detected.  It may not be installed or enabled properly.\n"
     ]
    },
    {
     "data": {},
     "metadata": {},
     "output_type": "display_data"
    }
   ],
   "source": [
    "nt2 = int((tend-t2)/dt)                # number of time steps to get from t2 to tend\n",
    "f = FloatProgress(min=0,max=100)       # create a progress bar to see how the simulation goes\n",
    "display(f)\n",
    "\n",
    "for n in range(0,nt2):                 # main loop for time\n",
    "    T_new = np.zeros(nx)               # new temperature profile\n",
    "    f.value = int(n/nt1*100)\n",
    "    \n",
    "    for i in range(1,nx-1):            # main loop for space (along the profile)\n",
    "        T_new[i] = T[i] + (k*dt/(dx*dx))*(T[i-1]-2*T[i]+T[i+1])\n",
    "    \n",
    "    T_new[0] = T[0]                    # apply the boundary condition (T remains constant at edges of profile)       \n",
    "    T_new[nx-1] = T[nx-1]\n",
    "    Tc[nt1+n-1] = T[int(nx/2)]               # get temperature at center point\n",
    "    ctime = ctime+dt   "
   ]
  },
  {
   "cell_type": "markdown",
   "metadata": {},
   "source": [
    "Now we plot the temperature profile at tend"
   ]
  },
  {
   "cell_type": "code",
   "execution_count": 13,
   "metadata": {},
   "outputs": [
    {
     "data": {
      "text/plain": [
       "<IPython.core.display.Javascript object>"
      ]
     },
     "metadata": {},
     "output_type": "display_data"
    },
    {
     "data": {
      "text/html": [
       "<img src=\"data:image/png;base64,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\" width=\"640\">"
      ],
      "text/plain": [
       "<IPython.core.display.HTML object>"
      ]
     },
     "metadata": {},
     "output_type": "execute_result"
    }
   ],
   "source": [
    "plt.figure(1)\n",
    "plt.plot(x,T)\n",
    "plt.xlabel(\"position\")\n",
    "plt.ylabel(\"temperature\")\n",
    "plt.show()"
   ]
  },
  {
   "cell_type": "markdown",
   "metadata": {},
   "source": [
    "Now we plot the temperature evolution at center point"
   ]
  },
  {
   "cell_type": "code",
   "execution_count": null,
   "metadata": {
    "collapsed": true
   },
   "outputs": [],
   "source": [
    "Tc[0] = T0\n",
    "plt.figure(2)\n",
    "plt.plot(tc[:-2],Tc[:-2])\n",
    "plt.xlabel(\"time\")\n",
    "plt.ylabel(\"temperature\")\n",
    "plt.show()"
   ]
  },
  {
   "cell_type": "markdown",
   "metadata": {},
   "source": [
    "## Tasks\n",
    "1 - Run the silmulation to claculate the temperature profile at yers 3, 5, 10 and 20. Save the plots and place them in the report. Describe and comment on the temperature profiles.\n",
    "\n",
    "2 - Run the simulation to year 100. Save the temperature profile and the temperature evolution at the centrl point. Place the figures in the report and describe and comment the figures. When is the peak temperature obtained in the central point?\n",
    "\n",
    "3 - Run the simulation to year 100 with hotter host rock. How does that change the temperature evolution of the central point or the temperature profile? \n",
    "\n",
    "4 - Run the simultion to year 100 with one dyke hotter than the other. Compare with the previous results."
   ]
  }
 ],
 "metadata": {
  "kernelspec": {
   "display_name": "Python 2",
   "language": "python",
   "name": "python2"
  },
  "language_info": {
   "codemirror_mode": {
    "name": "ipython",
    "version": 3
   },
   "file_extension": ".py",
   "mimetype": "text/x-python",
   "name": "python",
   "nbconvert_exporter": "python",
   "pygments_lexer": "ipython3",
   "version": "3.6.1"
  }
 },
 "nbformat": 4,
 "nbformat_minor": 1
}
